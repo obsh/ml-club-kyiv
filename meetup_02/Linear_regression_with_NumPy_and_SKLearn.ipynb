{
 "cells": [
  {
   "cell_type": "code",
   "execution_count": 2,
   "metadata": {
    "colab": {},
    "colab_type": "code",
    "id": "VM0vOfQF8dnd"
   },
   "outputs": [],
   "source": [
    "import random\n",
    "import json\n",
    "\n",
    "import pandas as pd\n",
    "import numpy as np\n",
    "import matplotlib.pyplot as plt"
   ]
  },
  {
   "cell_type": "code",
   "execution_count": 3,
   "metadata": {
    "colab": {},
    "colab_type": "code",
    "id": "tXaIe4S8tftr"
   },
   "outputs": [],
   "source": [
    "from sklearn.linear_model import LinearRegression\n",
    "from sklearn import metrics"
   ]
  },
  {
   "cell_type": "code",
   "execution_count": 4,
   "metadata": {
    "colab": {
     "base_uri": "https://localhost:8080/",
     "height": 35
    },
    "colab_type": "code",
    "id": "YjINqPysF_KZ",
    "outputId": "b378e837-621d-455b-8f28-5d7c9ec8feba"
   },
   "outputs": [
    {
     "name": "stdout",
     "output_type": "stream",
     "text": [
      "Updated property [core/project].\n",
      "\n",
      "\n",
      "To take a quick anonymous survey, run:\n",
      "  $ gcloud alpha survey\n",
      "\n"
     ]
    }
   ],
   "source": [
    "# https://cloud.google.com/resource-manager/docs/creating-managing-projects\n",
    "project_id = 'ml-club-kyiv'\n",
    "!gcloud config set project {project_id}"
   ]
  },
  {
   "cell_type": "code",
   "execution_count": 5,
   "metadata": {
    "colab": {
     "base_uri": "https://localhost:8080/",
     "height": 69
    },
    "colab_type": "code",
    "id": "GEnolcwFF_Jd",
    "outputId": "73c2bff1-2f97-46fc-dc73-63403c22d063"
   },
   "outputs": [
    {
     "name": "stdout",
     "output_type": "stream",
     "text": [
      "Copying gs://ml-club-meetup-01/data/flats.json...\n",
      "| [1 files][ 10.4 MiB/ 10.4 MiB]                                                \n",
      "Operation completed over 1 objects/10.4 MiB.                                     \n"
     ]
    }
   ],
   "source": [
    "!gsutil cp gs://ml-club-meetup-01/data/flats.json flats.json"
   ]
  },
  {
   "cell_type": "code",
   "execution_count": 6,
   "metadata": {
    "colab": {
     "base_uri": "https://localhost:8080/",
     "height": 55
    },
    "colab_type": "code",
    "id": "vOb_SU6rGaM6",
    "outputId": "30135ea7-d25a-4dbb-f2ce-7ad9d351310d"
   },
   "outputs": [
    {
     "name": "stdout",
     "output_type": "stream",
     "text": [
      "[{'district': ['Саперна Слобідка', 'Голосіївський'], 'short_description': 'Шикарная квартира, после дизайнерского ремонта 2019 года с использованием экологически чистых материалов, видовая - 19 этаж, Площадь - 140 кв.м. (один уровень), большая гостинная - 30 кв.м, две спальни, большой холл, 2 санузла, 2 гардероба. Импортная мебель, вся бытовая техника, кондиционирование. Закрытый двор, охрана, парковка. Без комиссионных.', 'attributes': [['3-кімнатна', '140 / 71 / 19 м²', '19 поверх з 21'], ['спец. проект', '2008 р', 'монолітно-каркасний']], 'image': None, 'street': 'вул. Саперно-Слобідська', 'price': '190 000 $'}, {'district': ['Соцмісто', 'Дніпровський'], 'short_description': 'Продается 2 комнатная квартира в Днепровском районе, массив Соцгородок, ул. Красноткацкая 18. Квартира на 2 этаже 5 этажного дома. Площадь квартиры 45/30/8 кв.м.. Санузел раздельный. Квартира ухоженная, в жилом состоянии. Комната светлая и просторная. В квартире есть мебель и необходимая бытовая техника. Установлены счетчики учета потребления воды. Рядом магазин «Фора», Новая почта, ТРЦ «Проспект», \"Ашан\", поликлиника, рынок, детские сады, школы, райадминистрация Днепровского района. Отличная транспортная развязка, хорошо развитая инфраструктура, тихое место. Метро Дарница - 5 мин в пешей доступности.', 'attributes': [['2-кімнатна', '45 / 30 / 8 м²', '2 поверх з 5'], ['хрущовка', 'панель']], 'image': None, 'street': 'вул. Червоноткацька', 'price': '49 000 $'}, {'district': ['Микільська Слобідка', 'Дніпровський'], 'short_description': 'Продается 1-к. квартира НА НАБЕРЕЖНОЙ Днепра ул.Сагайдака,101(Маланюка).23секция Сдача дома 4-й квартал 2019 года. После строителей, в квартире предусмотрена медная проводка электричества, счетчики на воду, пол стяжка, стены без отделочных работ, стеклопакеты на окнах, входная железная дверь. Рядышком магазин Новус, набережная с детской и спортивной площадкой, выставочный центр, театр \"Драмы и комедии\", ТРЦ \"КОМОД\" с кинозалами Мультиплекс, спортклубы, яхтклуб, рынок, супермаркеты, кафе и магазинчики, школы, детские садики и поликлинника. Элитный современный жилой комплекс на Левобережной набережной. Метро Левобережная 15 мин пешком. Номер объявления на сайте компании: SF-1-296-883-ME.', 'attributes': [['однокімнатна', '51 / 12 м²', '8 поверх з 25'], []], 'image': None, 'street': 'вул. Євгена Маланюка', 'price': '49 000 $'}, {'district': ['ЖК Паркова Вежа', 'Вітряні Гори', 'Подільський'], 'short_description': 'Продается видовая двухкомнатная квартира в ЖК Паркова вежа, общей площадью 64 м. кв. с евроремонтом. Квартира в новом комплексе (2016г) закрытого типа с охраной, укомплектована кухонной мебелью и техникой. В санузле душевая кабина Ravak. Вся сантехника Италия, санфаянс Primera . Квартира оборудована 2-мя кондиционерами, в санузле бойлер Gorene (100 л), стиральная машина (Whirpool). Квартира очень теплая, зимой отопление практически не включается. Новый дом с хорошей инфраструктурой; автономное отопление. в доме 5 лифтов, двухуровневый подземный паркинг. Рядом супермаркеты \"АТБ\", \"Сильпо\", озеро с парковой зоной, кафе \"Самикс\", \"Мансарда\", кинотеатр имени Шевченко.', 'attributes': [['2-кімнатна', '64 / 20 / 19 м²', '13 поверх з 27'], ['спец. проект', '2015 р', 'утеплена панель']], 'image': None, 'street': 'вул. Червонопільська', 'price': '70 000 $'}, {'district': ['Північно-Броварський (Комсомольський)', 'Дніпровський'], 'short_description': 'Если вы хотите жить в тихом месте, каждый день наслаждаться хвойным воздухом, то эта квартира для вас. Квартира возле ст. м. Дарница буквально 7 минут пешком. Квартира с косметическим ремонтом, но в тоже время была замена всех коммуникаций. В доме два лифта. Парадное чистое аккуратное. Консьерж. Рядом садик, магазины, Парк Победы. Есть своя кладовка. Парко место в подарок. Но, лучше один раз увидеть и влюбиться в квартиру, чем читать и слышать. Записывайтесь на просмотр.', 'attributes': [['2-кімнатна', '45 / 28 / 9 м²', '11 поверх з 16'], ['БПС', '1975 р', 'панель']], 'image': None, 'street': 'вул. Жмаченка', 'price': '58 500 $'}, {'district': ['Позняки', 'Дарницький'], 'short_description': 'Спецпроект 2000-2005 рр; стіни: цегла; перекриття: залізобетон; поверховість: 18; кількість виходів: 4; стоянка; гараж; транспорт: ст.М\"Позняки\"-5хв.; гарний стан, біля дороги, під\\'їзди охайні, 3 ліфти, консьєрж, код.замок, безкошт.паркінг, магазин, міська лікарня • 3-, 12-й поверх, площа: 109,0\\\\59,8\\\\12,4; Квартира з ремонтом, без меблів, ковролін в кімнатах, ламінат в коридорі, на кухні плитка, ванна, сан., вузол окремий - кахель, два балкона, всюди МПВ, торг доречний, готові вислухати пропозиції; квартира не торцьова, три вікна виходять у затишний двір - одне у напрямку вул. Ахматової. Поряд станція метро Позняки, \"Велика кишеня\", \"Новус\".', 'attributes': [['3-кімнатна', '109 / 59 / 12 м²', '12 поверх з 18'], ['спец. проект', '2003 р', 'монолітно-каркасний']], 'image': None, 'street': 'вул. Ахматової', 'price': '99 000 $'}, {'district': ['Теремки-2', 'Голосіївський'], 'short_description': 'Продам 3к квартиру по ул. Лятошинского Композитора 26-а. Просторная квартира на 3/ 9 эт дома 62/47/7 метров с удачной планировкой: кухня правильной формы, раздельный с/у и кладовка, балкон и лоджия. Состояние как на фото- жить можно но ремонт необходим. Счетчики на воду установлены. Дом в пешей доступности до М. Теремки или Ипподром. Рядом магазины, парк, рынок, отличная транспортная развязка во все направления. Чистая продажа! Задаток берем!. Торг уместен.', 'attributes': [['3-кімнатна', '62 / 47 / 7 м²', '3 поверх з 9'], ['хрущовка', '1978 р', 'панель']], 'image': None, 'street': 'вул. Лятошинського', 'price': '53 000 $'}, {'district': ['Позняки', 'Дарницький'], 'short_description': 'Продаётся 2-х комнатная квартира в Дарницком районе, ул. Драгоманова, 1Д 21/22эт.дома Параметры: 74/32/12 Состояние квартиры хорошее, можно заехать и жить. Встроенная кухня, духовой шкаф, витяжка, большой бойлер, кондиционер. Гардеробная комната и шкаф-купе, плюс кладовка. Рядом с домом очень хорошо развита инфраструктура: школы, садики, аптеки, магазинчики, кафе, большой маркет \"Ашан\". Так же рядом храм Св.Николая, красивое озеро \"Солнечное\". Станция метро \"Позняки\" и \"Харьковская\" 10-15мин. Номер объявления на сайте компании: SF-1-347-582-ME.', 'attributes': [['2-кімнатна', '74 / 32 / 12 м²', '21 поверх з 22'], ['серія КТ', '2006 р', 'панель']], 'image': None, 'street': 'вул. Драгоманова', 'price': '70 000 $'}, {'district': ['ЖК Бульвар Фонтанів', 'Нижній Печерськ', 'Печерський'], 'short_description': 'Эксклюзивная 4х комнатная квартира с авторским ремонтом известного дизайнера Славы Балбека. • 165м2 • Видовая сторона! • 3 спальни + кухня гостиная + 2 ванные комнаты + 2 гардеробные • Система кондиционирования и климат контроля квариры. • Система Умный Дом • Встроенная аудиосистема (4х канальная) • Итальянская мебель (Flexform,Zampieri и т.д. ) Полностью укомплектована современной итальянской мебелью, сантехника, плитка, паркет, шторы, свет от лучших мировых производителей. Умный дом, мультирумы во всех комнатах и санузле, система кондиционирования и подачи свежего воздуха. Видеонаблюдение в подъезде и на площадке, охраняемая территория, трехуровневый подземный паркинг под домом, ландшафтный дизайн двора, красивые фонтаны, оригинальное художественное освещение всей территории и много других оригинальных фишек, которые не оставят Вас равнодушными при выборе жилья. Для записи на просмотр звоните по телефону 0685972128 Руслан', 'attributes': [['3-кімнатна', '165 / 60 / 55 м²', '10 поверх з 24'], ['спец. проект', '2013 р', 'монолітно-каркасний']], 'image': None, 'street': 'вул. І. Павла ІІ', 'price': '675 000 $'}, {'district': ['Соцмісто', 'Дніпровський'], 'short_description': '85 м2. 2-х комнатная квартира.Правда есть о чем подумать? Не продаем «дешево», потому что в Киеве Вы не найдете варианта лучше. В эту квартиру Вы влюбитесь сразу. Теперь информация. 1. Где находится? Город Киев. Метро Черниговская 750м. З00 метров до школы, торгового центра, спортивного клуба. ул. Юрия Поправки. 2. Что продаем? Квартиру в новым доме (5 лет). Очень хороший закрытый двор. Дом монолитно-каркасный. Служба консьержа и кодовый замок на подъезде. Квартира на 5-том этаже 18-ти этажного дома. Всего на этаже 4 квартиры. 85 м2. Под чистовую отделку. Качественные материалы стяжки, хорошие стеклопакеты. Перепланировку можно сделать «под себя». 2 санузла. Есть дизайнерские проекты. Двор закрыт.Во дворе спортивная и детская площадки. 3. Что хотим? Продаем в «хорошие руки», цена 96 000$. Все вопросы по торгу пропадут после просмотра квартиры. 4. Продает сам собственник. «Чистейшие документы» и никаких проблем с «быстрой» сделкой. Вознаграждения людям работающих в сфере недвижимости хозяин гарантирует.', 'attributes': [['2-кімнатна', '85 / 38 / 13 м²', '5 поверх з 18'], ['монолітно-каркасний']], 'image': None, 'street': 'вул. Поправки', 'price': '96 000 $'}]\n"
     ]
    }
   ],
   "source": [
    "with open('flats.json', 'r') as f:\n",
    "  text = f.read()\n",
    "  records = json.loads(text)\n",
    "print(records[:10])"
   ]
  },
  {
   "cell_type": "code",
   "execution_count": 7,
   "metadata": {
    "colab": {},
    "colab_type": "code",
    "id": "xKehjgI7J6w2"
   },
   "outputs": [],
   "source": [
    "def parse_price(price_text):\n",
    "  parts = price_text.split(' ')\n",
    "  price = ''.join(parts[0:-1])\n",
    "  currency = parts[-1]\n",
    "  return (int(price), currency)"
   ]
  },
  {
   "cell_type": "code",
   "execution_count": 8,
   "metadata": {
    "colab": {},
    "colab_type": "code",
    "id": "fg379BOqPIXE"
   },
   "outputs": [],
   "source": [
    "RATES = {\n",
    "    '$': 1,\n",
    "    'грн': 0.042,\n",
    "    '€': 1.10,\n",
    "}\n",
    "def convert_currency(row):\n",
    "  if row['currency'] in RATES:\n",
    "    return RATES[row['currency']] * row['price']\n",
    "\n",
    "  return None"
   ]
  },
  {
   "cell_type": "code",
   "execution_count": 9,
   "metadata": {
    "colab": {},
    "colab_type": "code",
    "id": "cb2LvU8p-22Y"
   },
   "outputs": [],
   "source": [
    "def assign_attributes(max_attributes, attributes, checks):\n",
    "    result = [None] * max_attributes\n",
    "    attr_num = len(attributes)\n",
    "    last_position = 0\n",
    "\n",
    "    for attribute_idx in range(0, attr_num):\n",
    "        lookup_start = max(attribute_idx, last_position)\n",
    "        lookup_end = max_attributes - (attr_num - attribute_idx)\n",
    "        for position_idx in range(lookup_start, lookup_end + 1):\n",
    "            if checks[position_idx](attributes[attribute_idx]):\n",
    "                result[position_idx] = attributes[attribute_idx]\n",
    "                last_position = position_idx\n",
    "                break\n",
    "\n",
    "    return result"
   ]
  },
  {
   "cell_type": "code",
   "execution_count": 10,
   "metadata": {
    "colab": {
     "base_uri": "https://localhost:8080/",
     "height": 55
    },
    "colab_type": "code",
    "id": "Re5DcH1fUzQR",
    "outputId": "8633577c-50b6-4680-c41c-304b0d42c21d"
   },
   "outputs": [
    {
     "name": "stdout",
     "output_type": "stream",
     "text": [
      "{'rooms': '3-кімнатна', 'area': '140 / 71 / 19 м²', 'floor': '19 поверх з 21', 'project': 'спец. проект', 'year': '2008 р', 'technology': 'монолітно-каркасний'}\n"
     ]
    }
   ],
   "source": [
    "MAX_ATTR_NUM = 3\n",
    "\n",
    "rooms_values = set({})\n",
    "area_values = set({})\n",
    "floor_values = set({})\n",
    "\n",
    "room_area_floor_checks = [\n",
    "    lambda x: x in rooms_values or 'кімнатна' in x,\n",
    "    lambda x: x in area_values or 'м²' in x,\n",
    "    lambda x: x in floor_values or 'поверх' in x,\n",
    "]\n",
    "\n",
    "project_values = set({})\n",
    "year_values = set({})\n",
    "technology_values = set({})\n",
    "\n",
    "project_year_technology_checks = [\n",
    "    lambda x: x in project_values,\n",
    "    lambda x: x in year_values or x.endswith(' р'),\n",
    "    lambda x: x in technology_values,\n",
    "]\n",
    "\n",
    "for record in records:\n",
    "  if len(record['attributes'][0]) == MAX_ATTR_NUM:\n",
    "    rooms_values.add(record['attributes'][0][0])\n",
    "    area_values.add(record['attributes'][0][1])\n",
    "    floor_values.add(record['attributes'][0][2])\n",
    "  if len(record['attributes'][1]) == MAX_ATTR_NUM:\n",
    "    project_values.add(record['attributes'][1][0])\n",
    "    year_values.add(record['attributes'][1][1])\n",
    "    technology_values.add(record['attributes'][1][2])\n",
    "\n",
    "def detect_attributes(attributes):\n",
    "  rooms, area, floor = assign_attributes(MAX_ATTR_NUM, attributes[0], room_area_floor_checks)\n",
    "  project, year, technology = assign_attributes(MAX_ATTR_NUM, attributes[1], project_year_technology_checks)\n",
    "  return {\n",
    "      'rooms': rooms,\n",
    "      'area': area,\n",
    "      'floor': floor,\n",
    "      'project': project,\n",
    "      'year': year,\n",
    "      'technology': technology\n",
    "  }\n",
    "\n",
    "print (detect_attributes([['3-кімнатна', '140 / 71 / 19 м²', '19 поверх з 21'], ['спец. проект', '2008 р', 'монолітно-каркасний']]))"
   ]
  },
  {
   "cell_type": "code",
   "execution_count": 11,
   "metadata": {
    "colab": {},
    "colab_type": "code",
    "id": "-p_X_tDlV81Z"
   },
   "outputs": [],
   "source": [
    "def parse_num_rooms(rooms_info):\n",
    "  if rooms_info is None:\n",
    "    return None\n",
    "  if rooms_info == 'однокімнатна':\n",
    "    return 1\n",
    "  if rooms_info.endswith('-кімнатна'):\n",
    "    return int(rooms_info.split('-')[0])\n",
    "    \n",
    "  raise 'Unexpected value {}'.format(rooms_info)"
   ]
  },
  {
   "cell_type": "code",
   "execution_count": 12,
   "metadata": {
    "colab": {},
    "colab_type": "code",
    "id": "DhlEZCRQIsyQ"
   },
   "outputs": [],
   "source": [
    "flat_records = []\n",
    "for record in records:\n",
    "  price, currency = parse_price(record['price'])\n",
    "  attributes = detect_attributes(record['attributes'])\n",
    "  flat_record = {\n",
    "      'district': record['district'][-1],\n",
    "      'micro_district': record['district'][-2] if len(record['district']) > 1 else None,\n",
    "      'price': price,\n",
    "      'currency': currency,\n",
    "      'num_rooms': parse_num_rooms(attributes['rooms']),\n",
    "      'total_area': None if attributes['area'] is None else attributes['area'].replace('м²', '').split('/')[0].strip(),\n",
    "      'floor': None if attributes['floor'] is None else attributes['floor'].split(' ')[0],\n",
    "      'project': attributes['project'],\n",
    "      'year': None if attributes['year'] is None else attributes['year'].split(' ')[0],\n",
    "      'technology': attributes['technology']\n",
    "  }\n",
    "  flat_records.append(flat_record)"
   ]
  },
  {
   "cell_type": "code",
   "execution_count": 13,
   "metadata": {
    "colab": {},
    "colab_type": "code",
    "id": "N3LNyXSlHA87"
   },
   "outputs": [],
   "source": [
    "df = pd.DataFrame(flat_records)"
   ]
  },
  {
   "cell_type": "code",
   "execution_count": 14,
   "metadata": {
    "colab": {
     "base_uri": "https://localhost:8080/",
     "height": 35
    },
    "colab_type": "code",
    "id": "2_rTfh35HnW8",
    "outputId": "caa39976-54c9-4eb7-c198-6e652fa41ed9"
   },
   "outputs": [
    {
     "data": {
      "text/plain": [
       "array(['$', 'грн', '€'], dtype=object)"
      ]
     },
     "execution_count": 14,
     "metadata": {},
     "output_type": "execute_result"
    }
   ],
   "source": [
    "df['currency'].unique()"
   ]
  },
  {
   "cell_type": "code",
   "execution_count": 15,
   "metadata": {
    "colab": {},
    "colab_type": "code",
    "id": "w7waqZA6MakU"
   },
   "outputs": [],
   "source": [
    "df['price_usd'] = df.apply(lambda row: convert_currency(row), axis=1)\n",
    "df['new_building'] = df.apply(lambda row: row['year'] == 'новобудова', axis=1)\n",
    "df['year'].replace('новобудова', '', inplace=True)\n",
    "df.fillna('', inplace=True)"
   ]
  },
  {
   "cell_type": "code",
   "execution_count": 16,
   "metadata": {
    "colab": {
     "base_uri": "https://localhost:8080/",
     "height": 254
    },
    "colab_type": "code",
    "id": "WMW9PtmONFgg",
    "outputId": "8b9e67b7-7ff6-4b16-b501-c68fa997539d"
   },
   "outputs": [
    {
     "data": {
      "text/html": [
       "<div>\n",
       "<style scoped>\n",
       "    .dataframe tbody tr th:only-of-type {\n",
       "        vertical-align: middle;\n",
       "    }\n",
       "\n",
       "    .dataframe tbody tr th {\n",
       "        vertical-align: top;\n",
       "    }\n",
       "\n",
       "    .dataframe thead th {\n",
       "        text-align: right;\n",
       "    }\n",
       "</style>\n",
       "<table border=\"1\" class=\"dataframe\">\n",
       "  <thead>\n",
       "    <tr style=\"text-align: right;\">\n",
       "      <th></th>\n",
       "      <th>currency</th>\n",
       "      <th>district</th>\n",
       "      <th>floor</th>\n",
       "      <th>micro_district</th>\n",
       "      <th>num_rooms</th>\n",
       "      <th>price</th>\n",
       "      <th>project</th>\n",
       "      <th>technology</th>\n",
       "      <th>total_area</th>\n",
       "      <th>year</th>\n",
       "      <th>price_usd</th>\n",
       "      <th>new_building</th>\n",
       "    </tr>\n",
       "  </thead>\n",
       "  <tbody>\n",
       "    <tr>\n",
       "      <th>0</th>\n",
       "      <td>$</td>\n",
       "      <td>Голосіївський</td>\n",
       "      <td>19</td>\n",
       "      <td>Саперна Слобідка</td>\n",
       "      <td>3</td>\n",
       "      <td>190000</td>\n",
       "      <td>спец. проект</td>\n",
       "      <td>монолітно-каркасний</td>\n",
       "      <td>140</td>\n",
       "      <td>2008</td>\n",
       "      <td>190000.0</td>\n",
       "      <td>False</td>\n",
       "    </tr>\n",
       "    <tr>\n",
       "      <th>1</th>\n",
       "      <td>$</td>\n",
       "      <td>Дніпровський</td>\n",
       "      <td>2</td>\n",
       "      <td>Соцмісто</td>\n",
       "      <td>2</td>\n",
       "      <td>49000</td>\n",
       "      <td>хрущовка</td>\n",
       "      <td>панель</td>\n",
       "      <td>45</td>\n",
       "      <td></td>\n",
       "      <td>49000.0</td>\n",
       "      <td>False</td>\n",
       "    </tr>\n",
       "    <tr>\n",
       "      <th>2</th>\n",
       "      <td>$</td>\n",
       "      <td>Дніпровський</td>\n",
       "      <td>8</td>\n",
       "      <td>Микільська Слобідка</td>\n",
       "      <td>1</td>\n",
       "      <td>49000</td>\n",
       "      <td></td>\n",
       "      <td></td>\n",
       "      <td>51</td>\n",
       "      <td></td>\n",
       "      <td>49000.0</td>\n",
       "      <td>False</td>\n",
       "    </tr>\n",
       "    <tr>\n",
       "      <th>3</th>\n",
       "      <td>$</td>\n",
       "      <td>Подільський</td>\n",
       "      <td>13</td>\n",
       "      <td>Вітряні Гори</td>\n",
       "      <td>2</td>\n",
       "      <td>70000</td>\n",
       "      <td>спец. проект</td>\n",
       "      <td>утеплена панель</td>\n",
       "      <td>64</td>\n",
       "      <td>2015</td>\n",
       "      <td>70000.0</td>\n",
       "      <td>False</td>\n",
       "    </tr>\n",
       "    <tr>\n",
       "      <th>4</th>\n",
       "      <td>$</td>\n",
       "      <td>Дніпровський</td>\n",
       "      <td>11</td>\n",
       "      <td>Північно-Броварський (Комсомольський)</td>\n",
       "      <td>2</td>\n",
       "      <td>58500</td>\n",
       "      <td>БПС</td>\n",
       "      <td>панель</td>\n",
       "      <td>45</td>\n",
       "      <td>1975</td>\n",
       "      <td>58500.0</td>\n",
       "      <td>False</td>\n",
       "    </tr>\n",
       "  </tbody>\n",
       "</table>\n",
       "</div>"
      ],
      "text/plain": [
       "  currency       district floor                         micro_district  \\\n",
       "0        $  Голосіївський    19                       Саперна Слобідка   \n",
       "1        $   Дніпровський     2                               Соцмісто   \n",
       "2        $   Дніпровський     8                    Микільська Слобідка   \n",
       "3        $    Подільський    13                           Вітряні Гори   \n",
       "4        $   Дніпровський    11  Північно-Броварський (Комсомольський)   \n",
       "\n",
       "  num_rooms   price       project           technology total_area  year  \\\n",
       "0         3  190000  спец. проект  монолітно-каркасний        140  2008   \n",
       "1         2   49000      хрущовка               панель         45         \n",
       "2         1   49000                                            51         \n",
       "3         2   70000  спец. проект      утеплена панель         64  2015   \n",
       "4         2   58500           БПС               панель         45  1975   \n",
       "\n",
       "   price_usd  new_building  \n",
       "0   190000.0         False  \n",
       "1    49000.0         False  \n",
       "2    49000.0         False  \n",
       "3    70000.0         False  \n",
       "4    58500.0         False  "
      ]
     },
     "execution_count": 16,
     "metadata": {},
     "output_type": "execute_result"
    }
   ],
   "source": [
    "df.head()"
   ]
  },
  {
   "cell_type": "markdown",
   "metadata": {
    "colab_type": "text",
    "id": "BmFOauyWs_l6"
   },
   "source": [
    "### `Prepare data for Linear regression`"
   ]
  },
  {
   "cell_type": "markdown",
   "metadata": {
    "colab_type": "text",
    "id": "JE7WPHJkUwAD"
   },
   "source": [
    "Select only Area, Num Rooms, Floor and Price. Remove null values\n"
   ]
  },
  {
   "cell_type": "code",
   "execution_count": 17,
   "metadata": {
    "colab": {},
    "colab_type": "code",
    "id": "uaee3buiUkjq"
   },
   "outputs": [],
   "source": [
    "selected_data = df[['total_area', 'num_rooms', 'floor', 'year', 'price_usd']]\n",
    "selected_data = selected_data[(selected_data['total_area'].astype(str).str.isdigit()) & \n",
    "                              (selected_data['num_rooms'].notnull()) & \n",
    "                              (selected_data['num_rooms'].astype(str).str.len() > 0) & \n",
    "                              (selected_data['floor'].astype(str).str.isdigit())&\n",
    "                              (selected_data['year'].astype(str).str.isdigit())]"
   ]
  },
  {
   "cell_type": "markdown",
   "metadata": {
    "colab_type": "text",
    "id": "szJvyZW1jE_3"
   },
   "source": [
    "Shuffle"
   ]
  },
  {
   "cell_type": "code",
   "execution_count": 18,
   "metadata": {
    "colab": {},
    "colab_type": "code",
    "id": "qsW7iRCei7AT"
   },
   "outputs": [],
   "source": [
    "selected_data = selected_data.sample(frac=1).reset_index(drop=True)"
   ]
  },
  {
   "cell_type": "markdown",
   "metadata": {
    "colab_type": "text",
    "id": "1KNcLbJnjWR1"
   },
   "source": [
    "Dataset info"
   ]
  },
  {
   "cell_type": "code",
   "execution_count": 19,
   "metadata": {
    "colab": {
     "base_uri": "https://localhost:8080/",
     "height": 202
    },
    "colab_type": "code",
    "id": "_rxytvyWWAfh",
    "outputId": "1fcea293-0d6f-414e-f28f-9623f7bbe008"
   },
   "outputs": [
    {
     "data": {
      "text/html": [
       "<div>\n",
       "<style scoped>\n",
       "    .dataframe tbody tr th:only-of-type {\n",
       "        vertical-align: middle;\n",
       "    }\n",
       "\n",
       "    .dataframe tbody tr th {\n",
       "        vertical-align: top;\n",
       "    }\n",
       "\n",
       "    .dataframe thead th {\n",
       "        text-align: right;\n",
       "    }\n",
       "</style>\n",
       "<table border=\"1\" class=\"dataframe\">\n",
       "  <thead>\n",
       "    <tr style=\"text-align: right;\">\n",
       "      <th></th>\n",
       "      <th>total_area</th>\n",
       "      <th>num_rooms</th>\n",
       "      <th>floor</th>\n",
       "      <th>year</th>\n",
       "      <th>price_usd</th>\n",
       "    </tr>\n",
       "  </thead>\n",
       "  <tbody>\n",
       "    <tr>\n",
       "      <th>0</th>\n",
       "      <td>55</td>\n",
       "      <td>2</td>\n",
       "      <td>4</td>\n",
       "      <td>1984</td>\n",
       "      <td>48000.0</td>\n",
       "    </tr>\n",
       "    <tr>\n",
       "      <th>1</th>\n",
       "      <td>89</td>\n",
       "      <td>3</td>\n",
       "      <td>12</td>\n",
       "      <td>1900</td>\n",
       "      <td>75000.0</td>\n",
       "    </tr>\n",
       "    <tr>\n",
       "      <th>2</th>\n",
       "      <td>41</td>\n",
       "      <td>1</td>\n",
       "      <td>25</td>\n",
       "      <td>2015</td>\n",
       "      <td>57000.0</td>\n",
       "    </tr>\n",
       "    <tr>\n",
       "      <th>3</th>\n",
       "      <td>190</td>\n",
       "      <td>4</td>\n",
       "      <td>3</td>\n",
       "      <td>2011</td>\n",
       "      <td>210000.0</td>\n",
       "    </tr>\n",
       "    <tr>\n",
       "      <th>4</th>\n",
       "      <td>68</td>\n",
       "      <td>2</td>\n",
       "      <td>2</td>\n",
       "      <td>1974</td>\n",
       "      <td>56000.0</td>\n",
       "    </tr>\n",
       "  </tbody>\n",
       "</table>\n",
       "</div>"
      ],
      "text/plain": [
       "  total_area num_rooms floor  year  price_usd\n",
       "0         55         2     4  1984    48000.0\n",
       "1         89         3    12  1900    75000.0\n",
       "2         41         1    25  2015    57000.0\n",
       "3        190         4     3  2011   210000.0\n",
       "4         68         2     2  1974    56000.0"
      ]
     },
     "execution_count": 19,
     "metadata": {},
     "output_type": "execute_result"
    }
   ],
   "source": [
    "selected_data.head()"
   ]
  },
  {
   "cell_type": "code",
   "execution_count": 20,
   "metadata": {
    "colab": {
     "base_uri": "https://localhost:8080/",
     "height": 191
    },
    "colab_type": "code",
    "id": "jWa_QdsXWi3y",
    "outputId": "813ead93-d0db-447b-b872-492e6008190c"
   },
   "outputs": [
    {
     "name": "stdout",
     "output_type": "stream",
     "text": [
      "<class 'pandas.core.frame.DataFrame'>\n",
      "RangeIndex: 2122 entries, 0 to 2121\n",
      "Data columns (total 5 columns):\n",
      "total_area    2122 non-null object\n",
      "num_rooms     2122 non-null object\n",
      "floor         2122 non-null object\n",
      "year          2122 non-null object\n",
      "price_usd     2122 non-null float64\n",
      "dtypes: float64(1), object(4)\n",
      "memory usage: 83.0+ KB\n"
     ]
    }
   ],
   "source": [
    "selected_data.info()"
   ]
  },
  {
   "cell_type": "markdown",
   "metadata": {
    "colab_type": "text",
    "id": "2b02wL0K17xW"
   },
   "source": [
    "To float"
   ]
  },
  {
   "cell_type": "code",
   "execution_count": 21,
   "metadata": {
    "colab": {},
    "colab_type": "code",
    "id": "cBwWF32J188E"
   },
   "outputs": [],
   "source": [
    "selected_data = selected_data.astype(float)"
   ]
  },
  {
   "cell_type": "markdown",
   "metadata": {
    "colab_type": "text",
    "id": "7KiJO17O1gAE"
   },
   "source": [
    "Remove anomaly values"
   ]
  },
  {
   "cell_type": "code",
   "execution_count": 22,
   "metadata": {
    "colab": {},
    "colab_type": "code",
    "id": "hBYi70oj1iSb"
   },
   "outputs": [],
   "source": [
    "selected_data = selected_data[selected_data['total_area'] < 500]\n",
    "selected_data = selected_data[selected_data['price_usd'] < 1000000]"
   ]
  },
  {
   "cell_type": "markdown",
   "metadata": {
    "colab_type": "text",
    "id": "M4S0fSfYVDs6"
   },
   "source": [
    "Convert values to float and normalize"
   ]
  },
  {
   "cell_type": "code",
   "execution_count": 23,
   "metadata": {
    "colab": {},
    "colab_type": "code",
    "id": "6JsfROwNZt9T"
   },
   "outputs": [],
   "source": [
    "def normalize(d_frame):\n",
    "    norm_dict = {}\n",
    "    result = d_frame.copy()\n",
    "    for feature_name in d_frame.columns:\n",
    "        max_value = d_frame[feature_name].max()\n",
    "        min_value = d_frame[feature_name].min()\n",
    "        norm_dict[feature_name] = (min_value, (max_value - min_value))\n",
    "        result[feature_name] = (d_frame[feature_name] - min_value) / (max_value - min_value)\n",
    "\n",
    "    return result, norm_dict"
   ]
  },
  {
   "cell_type": "code",
   "execution_count": 24,
   "metadata": {
    "colab": {},
    "colab_type": "code",
    "id": "orNkPG4zUb5D"
   },
   "outputs": [],
   "source": [
    "selected_data, norm_dict = normalize(selected_data)"
   ]
  },
  {
   "cell_type": "markdown",
   "metadata": {
    "colab_type": "text",
    "id": "ReHF3PeLjj9c"
   },
   "source": [
    "Split train and test data"
   ]
  },
  {
   "cell_type": "code",
   "execution_count": 25,
   "metadata": {
    "colab": {},
    "colab_type": "code",
    "id": "_UwziD32joCV"
   },
   "outputs": [],
   "source": [
    "TEST_DATASET_SIZE = 200"
   ]
  },
  {
   "cell_type": "code",
   "execution_count": 26,
   "metadata": {
    "colab": {},
    "colab_type": "code",
    "id": "Gcs3eBe5jv5M"
   },
   "outputs": [],
   "source": [
    "selected_data_train = selected_data[:selected_data.shape[0]-TEST_DATASET_SIZE]\n",
    "selected_data_test = selected_data[selected_data.shape[0]-TEST_DATASET_SIZE:]"
   ]
  },
  {
   "cell_type": "markdown",
   "metadata": {
    "colab_type": "text",
    "id": "tZS_EetQnHZV"
   },
   "source": [
    "### Prepare dataset"
   ]
  },
  {
   "cell_type": "code",
   "execution_count": 27,
   "metadata": {
    "colab": {},
    "colab_type": "code",
    "id": "FYqG7zT9nMoh"
   },
   "outputs": [],
   "source": [
    "def create_X_y(src_df):\n",
    "  data = src_df.to_numpy()\n",
    "  X = data[:,:(data.shape[1]-1)]\n",
    "\n",
    "  ones = np.ones([X.shape[0],1])\n",
    "  X = np.concatenate((ones,X),axis=1)\n",
    "\n",
    "  y = data[:,(data.shape[1]-1)].reshape(-1,1)\n",
    "  return X, y"
   ]
  },
  {
   "cell_type": "code",
   "execution_count": 28,
   "metadata": {
    "colab": {},
    "colab_type": "code",
    "id": "Ouw2lt6Mo7Ue"
   },
   "outputs": [],
   "source": [
    "def denorm_data_array(data_array, norm_tuple):\n",
    "  return (data_array*norm_tuple[1]) + norm_tuple[0]"
   ]
  },
  {
   "cell_type": "markdown",
   "metadata": {
    "colab_type": "text",
    "id": "ZvUba0bftU0Z"
   },
   "source": [
    "### Define Linear regression functions"
   ]
  },
  {
   "cell_type": "code",
   "execution_count": 29,
   "metadata": {
    "colab": {},
    "colab_type": "code",
    "id": "-l_NQe9CtW5n"
   },
   "outputs": [],
   "source": [
    "def calculate_cost(theta,X,y):\n",
    "    '''\n",
    "    \n",
    "    Calculates the cost for given X and Y. The following shows and example of a single dimensional X\n",
    "    theta = Vector of thetas \n",
    "    X     = Row of X's np.zeros((2,j))\n",
    "    y     = Actual y's np.zeros((2,1))\n",
    "    \n",
    "    where:\n",
    "        j is the no of features\n",
    "    '''\n",
    "    \n",
    "    m = len(y)\n",
    "    \n",
    "    predictions = X.dot(theta)\n",
    "    cost = (1/2*m) * np.sum(np.square(predictions-y))\n",
    "    return cost"
   ]
  },
  {
   "cell_type": "code",
   "execution_count": 30,
   "metadata": {
    "colab": {},
    "colab_type": "code",
    "id": "4kpwml-5thoc"
   },
   "outputs": [],
   "source": [
    "def gradient_descent(X,y,theta,learning_rate=0.01,iterations=100):\n",
    "    '''\n",
    "    X    = Matrix of X with added bias units\n",
    "    y    = Vector of Y\n",
    "    theta=Vector of thetas np.random.randn(j,1)\n",
    "    learning_rate \n",
    "    iterations = no of iterations\n",
    "    \n",
    "    Returns the final theta vector and array of cost history over no of iterations\n",
    "    '''\n",
    "    m = len(y)\n",
    "    cost_history = np.zeros(iterations)\n",
    "    theta_history = np.zeros((iterations,X.shape[1]))\n",
    "    for it in range(iterations):\n",
    "        \n",
    "        prediction = np.dot(X,theta)\n",
    "        \n",
    "        theta = theta -(1/m)*learning_rate*( X.T.dot((prediction - y)))\n",
    "        theta_history[it,:] =theta.T\n",
    "        cost_history[it]  = calculate_cost(theta,X,y)\n",
    "        \n",
    "    return theta, cost_history, theta_history"
   ]
  },
  {
   "cell_type": "markdown",
   "metadata": {
    "colab_type": "text",
    "id": "CcHBG93tw8hh"
   },
   "source": [
    "### Define analize functions"
   ]
  },
  {
   "cell_type": "code",
   "execution_count": 31,
   "metadata": {
    "colab": {},
    "colab_type": "code",
    "id": "8sNHfhc_wvQr"
   },
   "outputs": [],
   "source": [
    "def plot_cost_history(num_iterations, cost_history):\n",
    "    fig, ax = plt.subplots(figsize=(8,8))\n",
    "\n",
    "    ax.set_ylabel('J(Theta)')\n",
    "    ax.set_xlabel('Iterations')\n",
    "    _=ax.plot(range(num_iterations),cost_history,'b.')"
   ]
  },
  {
   "cell_type": "code",
   "execution_count": 32,
   "metadata": {
    "colab": {},
    "colab_type": "code",
    "id": "d5m9lw6dxbcQ"
   },
   "outputs": [],
   "source": [
    "def plot_weights(X, y, theta_history, num_steps):\n",
    "    fig, ax = plt.subplots(figsize=(8,8))\n",
    "    _=ax.plot(X[:,1],y,'b.')\n",
    "\n",
    "    step = int(theta_history.shape[0]/num_steps)\n",
    "    for i in range(num_steps):\n",
    "      y_pred = theta_history[i*step][0] + theta_history[i*step][1]* X[:,1] #the line equation\n",
    "      plt.plot(X[:,1], y_pred, c='g')\n",
    "    ax.set_ylim(0,1)\n",
    "    ax.set_xlim(0,1)"
   ]
  },
  {
   "cell_type": "code",
   "execution_count": 33,
   "metadata": {
    "colab": {},
    "colab_type": "code",
    "id": "T5z_cmOalbzq"
   },
   "outputs": [],
   "source": [
    "def predict(theta, X_test, norm_tuple_for_y):\n",
    "  result = np.array(X_test).dot(theta)\n",
    "  return denorm_data_array(result, norm_tuple_for_y)"
   ]
  },
  {
   "cell_type": "code",
   "execution_count": 34,
   "metadata": {
    "colab": {},
    "colab_type": "code",
    "id": "s13rZpRArkHW"
   },
   "outputs": [],
   "source": [
    "def show_comparsion(comparsion_df):\n",
    "  comparsion_df_head = comparsion_df.head(25)\n",
    "  comparsion_df_head.plot(kind='bar',figsize=(16,10))\n",
    "  plt.grid(which='major', linestyle='-', linewidth='0.5', color='green')\n",
    "  plt.grid(which='minor', linestyle=':', linewidth='0.5', color='black')\n",
    "  plt.show()"
   ]
  },
  {
   "cell_type": "markdown",
   "metadata": {
    "colab_type": "text",
    "id": "5VpX-2hwUmTE"
   },
   "source": [
    "## `Linear regression with 1 variable`"
   ]
  },
  {
   "cell_type": "code",
   "execution_count": 35,
   "metadata": {
    "colab": {},
    "colab_type": "code",
    "id": "OgwLBe09t2lE"
   },
   "outputs": [],
   "source": [
    "selected_data_1_variable = selected_data_train[['total_area', 'price_usd']]"
   ]
  },
  {
   "cell_type": "markdown",
   "metadata": {
    "colab_type": "text",
    "id": "i81ULy9R1UPf"
   },
   "source": [
    "Remove anomaly high values"
   ]
  },
  {
   "cell_type": "code",
   "execution_count": 36,
   "metadata": {
    "colab": {
     "base_uri": "https://localhost:8080/",
     "height": 519
    },
    "colab_type": "code",
    "id": "UQJhhDkU0l4K",
    "outputId": "d88384c4-83ba-4134-b187-e15ed0254b4b"
   },
   "outputs": [
    {
     "data": {
      "text/plain": [
       "<matplotlib.axes._subplots.AxesSubplot at 0x7fde9c8d7518>"
      ]
     },
     "execution_count": 36,
     "metadata": {},
     "output_type": "execute_result"
    },
    {
     "data": {
      "image/png": "[encoded data removed]",
      "text/plain": [
       "<Figure size 576x576 with 1 Axes>"
      ]
     },
     "metadata": {
      "needs_background": "light"
     },
     "output_type": "display_data"
    }
   ],
   "source": [
    "selected_data_1_variable.plot(kind='scatter',    x='total_area',    y='price_usd',    figsize=(8,8),    grid = True,    fontsize = 12,    c='b')"
   ]
  },
  {
   "cell_type": "code",
   "execution_count": 37,
   "metadata": {
    "colab": {
     "base_uri": "https://localhost:8080/",
     "height": 69
    },
    "colab_type": "code",
    "id": "83wjev38UcFp",
    "outputId": "e72b9330-deb3-415e-aff2-e73d0b8131ce"
   },
   "outputs": [
    {
     "name": "stdout",
     "output_type": "stream",
     "text": [
      "Theta0:          -0.030,\n",
      "Theta1:          1.118\n",
      "Final cost/MSE:  15767.151\n"
     ]
    }
   ],
   "source": [
    "learning_rate = 0.1\n",
    "num_iterations = 5000\n",
    "\n",
    "theta = [[.0], [.1]]\n",
    "\n",
    "X, y = create_X_y(selected_data_1_variable)\n",
    "\n",
    "theta, cost_history, theta_history = gradient_descent(X,y,theta,learning_rate,num_iterations)\n",
    "\n",
    "print('Theta0:          {:0.3f},\\nTheta1:          {:0.3f}'.format(theta[0][0],theta[1][0]))\n",
    "print('Final cost/MSE:  {:0.3f}'.format(cost_history[-1]))"
   ]
  },
  {
   "cell_type": "code",
   "execution_count": 38,
   "metadata": {
    "colab": {
     "base_uri": "https://localhost:8080/",
     "height": 497
    },
    "colab_type": "code",
    "id": "YfZmC2i7UcSy",
    "outputId": "9f12aae2-1c76-4e93-b840-fbca9cc3efd3"
   },
   "outputs": [
    {
     "data": {
      "image/png": "[encoded data removed]",
      "text/plain": [
       "<Figure size 576x576 with 1 Axes>"
      ]
     },
     "metadata": {
      "needs_background": "light"
     },
     "output_type": "display_data"
    }
   ],
   "source": [
    "plot_cost_history(num_iterations, cost_history)"
   ]
  },
  {
   "cell_type": "code",
   "execution_count": 39,
   "metadata": {
    "colab": {
     "base_uri": "https://localhost:8080/",
     "height": 487
    },
    "colab_type": "code",
    "id": "Gl1xEq-T4Dyz",
    "outputId": "484bbe8b-3715-4a70-da0a-099e40778abc"
   },
   "outputs": [
    {
     "data": {
      "image/png": "[encoded data removed]",
      "text/plain": [
       "<Figure size 576x576 with 1 Axes>"
      ]
     },
     "metadata": {
      "needs_background": "light"
     },
     "output_type": "display_data"
    }
   ],
   "source": [
    "plot_weights(X, y, theta_history, 10)"
   ]
  },
  {
   "cell_type": "markdown",
   "metadata": {
    "colab_type": "text",
    "id": "hoHfQFFxrbtK"
   },
   "source": [
    "### Predicted price for 50 m^2"
   ]
  },
  {
   "cell_type": "code",
   "execution_count": 40,
   "metadata": {
    "colab": {
     "base_uri": "https://localhost:8080/",
     "height": 35
    },
    "colab_type": "code",
    "id": "2TkxI9OtxpVe",
    "outputId": "fd3a5495-3985-457d-bb6f-531e0dd07db7"
   },
   "outputs": [
    {
     "name": "stdout",
     "output_type": "stream",
     "text": [
      "71211.51143266173\n"
     ]
    }
   ],
   "source": [
    "x = 50\n",
    "norm_tuple_for_x = norm_dict['total_area']\n",
    "norm_tuple_for_y = norm_dict['price_usd']\n",
    "norm_x = (x - norm_tuple_for_x[0])/norm_tuple_for_x[1]\n",
    "norm_x = [1, norm_x]\n",
    "\n",
    "results_denormalized = predict(theta, norm_x, norm_tuple_for_y)\n",
    "print(results_denormalized[0])"
   ]
  },
  {
   "cell_type": "markdown",
   "metadata": {
    "colab_type": "text",
    "id": "UzZH7NIkmkXm"
   },
   "source": [
    "### Predictions for test dataset"
   ]
  },
  {
   "cell_type": "code",
   "execution_count": 41,
   "metadata": {
    "colab": {},
    "colab_type": "code",
    "id": "SBUtJOsUmv3k"
   },
   "outputs": [],
   "source": [
    "selected_data_1_variable_test = selected_data_test[['total_area', 'price_usd']]\n",
    "X_test, y_test = create_X_y(selected_data_1_variable_test)"
   ]
  },
  {
   "cell_type": "code",
   "execution_count": 42,
   "metadata": {
    "colab": {},
    "colab_type": "code",
    "id": "pE6W1kEjm8EP"
   },
   "outputs": [],
   "source": [
    "y_test_predicted = predict(theta, X_test, norm_tuple_for_y)\n",
    "y_test_actual = denorm_data_array(y_test, norm_tuple_for_y)"
   ]
  },
  {
   "cell_type": "code",
   "execution_count": 43,
   "metadata": {
    "colab": {
     "base_uri": "https://localhost:8080/",
     "height": 595
    },
    "colab_type": "code",
    "id": "NeT8vQiipaYA",
    "outputId": "51e3e72b-8a49-45f9-b55a-5ed093a7c6cd"
   },
   "outputs": [
    {
     "data": {
      "image/png": "[encoded data removed]",
      "text/plain": [
       "<Figure size 1152x720 with 1 Axes>"
      ]
     },
     "metadata": {
      "needs_background": "light"
     },
     "output_type": "display_data"
    }
   ],
   "source": [
    "predicted_test_comparsion = pd.DataFrame({'Actual': y_test_actual.flatten(), 'Predicted': y_test_predicted.flatten()})\n",
    "predicted_test_comparsion = predicted_test_comparsion.astype(int)\n",
    "show_comparsion(predicted_test_comparsion)"
   ]
  },
  {
   "cell_type": "code",
   "execution_count": 46,
   "metadata": {
    "colab": {
     "base_uri": "https://localhost:8080/",
     "height": 52
    },
    "colab_type": "code",
    "id": "_RKXyc3OtuFs",
    "outputId": "6f6da6cc-5adc-4eab-b2b4-a2a4e55d952c"
   },
   "outputs": [
    {
     "name": "stdout",
     "output_type": "stream",
     "text": [
      "Mean Absolute Error: 60874.34296754517\n",
      "Mean Squared Error: 8068306549.488672\n"
     ]
    }
   ],
   "source": [
    "print('Mean Absolute Error:', metrics.mean_absolute_error(y_test_actual, y_test_predicted))  \n",
    "print('Mean Squared Error:', metrics.mean_squared_error(y_test_actual, y_test_predicted))  "
   ]
  },
  {
   "cell_type": "markdown",
   "metadata": {
    "colab_type": "text",
    "id": "MLRWqpi2m_L4"
   },
   "source": [
    "## `Linear regression with multiple variable`"
   ]
  },
  {
   "cell_type": "code",
   "execution_count": 47,
   "metadata": {
    "colab": {
     "base_uri": "https://localhost:8080/",
     "height": 121
    },
    "colab_type": "code",
    "id": "YGcGWlXnUcdD",
    "outputId": "fb2d24cd-20cc-4148-89cc-1f26cbcd5f9f"
   },
   "outputs": [
    {
     "name": "stdout",
     "output_type": "stream",
     "text": [
      "Theta: [[-0.02445152]\n",
      " [ 1.22508043]\n",
      " [-0.069862  ]\n",
      " [-0.00342538]\n",
      " [-0.00349645]]\n",
      "Final cost/MSE:  15644.699\n"
     ]
    }
   ],
   "source": [
    "learning_rate = 0.1\n",
    "num_iterations = 100000\n",
    "\n",
    "theta = np.random.randn(selected_data_train.shape[1],1)\n",
    "\n",
    "X, y = create_X_y(selected_data_train)\n",
    "\n",
    "theta, cost_history, theta_history = gradient_descent(X,y,theta,learning_rate,num_iterations)\n",
    "\n",
    "print('Theta: {}'.format(theta))\n",
    "print('Final cost/MSE:  {:0.3f}'.format(cost_history[-1]))"
   ]
  },
  {
   "cell_type": "code",
   "execution_count": 48,
   "metadata": {
    "colab": {
     "base_uri": "https://localhost:8080/",
     "height": 497
    },
    "colab_type": "code",
    "id": "muNEHxuc-j50",
    "outputId": "13fb9ac3-4795-468f-a2b8-3219bf1aa4f9"
   },
   "outputs": [
    {
     "data": {
      "image/png": "[encoded data removed]",
      "text/plain": [
       "<Figure size 576x576 with 1 Axes>"
      ]
     },
     "metadata": {
      "needs_background": "light"
     },
     "output_type": "display_data"
    }
   ],
   "source": [
    "plot_cost_history(num_iterations, cost_history)"
   ]
  },
  {
   "cell_type": "markdown",
   "metadata": {
    "colab_type": "text",
    "id": "X8siuP_KqdhD"
   },
   "source": [
    "### Predicted price for 50 m^2"
   ]
  },
  {
   "cell_type": "code",
   "execution_count": 49,
   "metadata": {
    "colab": {
     "base_uri": "https://localhost:8080/",
     "height": 35
    },
    "colab_type": "code",
    "id": "91WeZpEu-j7-",
    "outputId": "bf2edc5e-d786-4cfb-de77-d894f7a00a30"
   },
   "outputs": [
    {
     "name": "stdout",
     "output_type": "stream",
     "text": [
      "69506.63951214823\n"
     ]
    }
   ],
   "source": [
    "x = [50, 2, 10, 1980]\n",
    "norm_x = []\n",
    "for column in range(len(selected_data.columns)-1):\n",
    "  norm_tuple_for_x = norm_dict[selected_data.columns[column]]\n",
    "  norm_x.append((x[column] - norm_tuple_for_x[0])/norm_tuple_for_x[1])\n",
    "\n",
    "norm_x.insert(0, 1)\n",
    "\n",
    "results_denormalized = predict(theta, norm_x, norm_tuple_for_y)\n",
    "print(results_denormalized[0])"
   ]
  },
  {
   "cell_type": "markdown",
   "metadata": {
    "colab_type": "text",
    "id": "nu5dbenms6O8"
   },
   "source": [
    "###Predictions for test dataset"
   ]
  },
  {
   "cell_type": "code",
   "execution_count": 50,
   "metadata": {
    "colab": {},
    "colab_type": "code",
    "id": "Qess-aSBs7sY"
   },
   "outputs": [],
   "source": [
    "X_test, y_test = create_X_y(selected_data_test)"
   ]
  },
  {
   "cell_type": "code",
   "execution_count": 51,
   "metadata": {
    "colab": {},
    "colab_type": "code",
    "id": "DCMSbQ88utKD"
   },
   "outputs": [],
   "source": [
    "y_test_predicted = predict(theta, X_test, norm_tuple_for_y)\n",
    "y_test_actual = denorm_data_array(y_test, norm_tuple_for_y)"
   ]
  },
  {
   "cell_type": "code",
   "execution_count": 52,
   "metadata": {
    "colab": {
     "base_uri": "https://localhost:8080/",
     "height": 595
    },
    "colab_type": "code",
    "id": "TkD1FYgXu0Q_",
    "outputId": "05b75c32-ebab-4c5d-f499-45cc33d73a8d"
   },
   "outputs": [
    {
     "data": {
      "image/png": "[encoded data removed]",
      "text/plain": [
       "<Figure size 1152x720 with 1 Axes>"
      ]
     },
     "metadata": {
      "needs_background": "light"
     },
     "output_type": "display_data"
    }
   ],
   "source": [
    "predicted_test_comparsion = pd.DataFrame({'Actual': y_test_actual.flatten(), 'Predicted': y_test_predicted.flatten()})\n",
    "predicted_test_comparsion = predicted_test_comparsion.astype(int)\n",
    "show_comparsion(predicted_test_comparsion)"
   ]
  },
  {
   "cell_type": "code",
   "execution_count": 53,
   "metadata": {
    "colab": {
     "base_uri": "https://localhost:8080/",
     "height": 52
    },
    "colab_type": "code",
    "id": "aDEpblMhu3FS",
    "outputId": "0bba8ab9-744c-4f11-dac5-fa019133846f"
   },
   "outputs": [
    {
     "name": "stdout",
     "output_type": "stream",
     "text": [
      "Mean Absolute Error: 59640.43535205968\n",
      "Mean Squared Error: 7884286130.133331\n"
     ]
    }
   ],
   "source": [
    "print('Mean Absolute Error:', metrics.mean_absolute_error(y_test_actual, y_test_predicted))  \n",
    "print('Mean Squared Error:', metrics.mean_squared_error(y_test_actual, y_test_predicted))  "
   ]
  },
  {
   "cell_type": "markdown",
   "metadata": {
    "colab_type": "text",
    "id": "M6eLAT06Hq8-"
   },
   "source": [
    "# Linear Regression with SKLEARN"
   ]
  },
  {
   "cell_type": "code",
   "execution_count": 54,
   "metadata": {
    "colab": {},
    "colab_type": "code",
    "id": "zf0FVq0fIseV"
   },
   "outputs": [],
   "source": [
    "X, y = create_X_y(selected_data_train)"
   ]
  },
  {
   "cell_type": "code",
   "execution_count": 55,
   "metadata": {
    "colab": {
     "base_uri": "https://localhost:8080/",
     "height": 35
    },
    "colab_type": "code",
    "id": "ozTRPf12-kDD",
    "outputId": "4f42df89-32f3-47dd-f8a6-56c863175143"
   },
   "outputs": [
    {
     "data": {
      "text/plain": [
       "LinearRegression(copy_X=True, fit_intercept=True, n_jobs=None, normalize=False)"
      ]
     },
     "execution_count": 55,
     "metadata": {},
     "output_type": "execute_result"
    }
   ],
   "source": [
    "regressor = LinearRegression()  \n",
    "regressor.fit(X, y) #training the algorithm"
   ]
  },
  {
   "cell_type": "code",
   "execution_count": 56,
   "metadata": {
    "colab": {
     "base_uri": "https://localhost:8080/",
     "height": 104
    },
    "colab_type": "code",
    "id": "cao9wUTryB-g",
    "outputId": "4dc9b5df-88f2-4e71-9f62-38323e23717e"
   },
   "outputs": [
    {
     "name": "stdout",
     "output_type": "stream",
     "text": [
      "[[-0.02445152]\n",
      " [ 1.22508043]\n",
      " [-0.069862  ]\n",
      " [-0.00342538]\n",
      " [-0.00349645]]\n"
     ]
    }
   ],
   "source": [
    "theta = regressor.coef_\n",
    "theta[0][0] = regressor.intercept_[0]\n",
    "theta = theta.reshape(-1,1)\n",
    "print(theta)"
   ]
  },
  {
   "cell_type": "code",
   "execution_count": 57,
   "metadata": {
    "colab": {
     "base_uri": "https://localhost:8080/",
     "height": 595
    },
    "colab_type": "code",
    "id": "kGdeh7-d-kBZ",
    "outputId": "6701b9e2-f654-42fe-9233-0028f2f9d193"
   },
   "outputs": [
    {
     "data": {
      "image/png": "[encoded data removed]",
      "text/plain": [
       "<Figure size 1152x720 with 1 Axes>"
      ]
     },
     "metadata": {
      "needs_background": "light"
     },
     "output_type": "display_data"
    }
   ],
   "source": [
    "X_test, y_test = create_X_y(selected_data_test)\n",
    "\n",
    "y_test_predicted = predict(theta, X_test, norm_tuple_for_y)\n",
    "y_test_actual = denorm_data_array(y_test, norm_tuple_for_y)\n",
    "\n",
    "predicted_test_comparsion = pd.DataFrame({'Actual': y_test_actual.flatten(), 'Predicted': y_test_predicted.flatten()})\n",
    "predicted_test_comparsion = predicted_test_comparsion.astype(int)\n",
    "show_comparsion(predicted_test_comparsion)"
   ]
  },
  {
   "cell_type": "code",
   "execution_count": 58,
   "metadata": {
    "colab": {
     "base_uri": "https://localhost:8080/",
     "height": 52
    },
    "colab_type": "code",
    "id": "fhUhc70D-j3Z",
    "outputId": "98a98fca-a182-4efc-e6ca-0cefbd27f571"
   },
   "outputs": [
    {
     "name": "stdout",
     "output_type": "stream",
     "text": [
      "Mean Absolute Error: 59640.43535205828\n",
      "Mean Squared Error: 7884286130.133167\n"
     ]
    }
   ],
   "source": [
    "print('Mean Absolute Error:', metrics.mean_absolute_error(y_test_actual, y_test_predicted))  \n",
    "print('Mean Squared Error:', metrics.mean_squared_error(y_test_actual, y_test_predicted))  "
   ]
  },
  {
   "cell_type": "code",
   "execution_count": 0,
   "metadata": {
    "colab": {},
    "colab_type": "code",
    "id": "VorNMVHZJNW2"
   },
   "outputs": [],
   "source": []
  }
 ],
 "metadata": {
  "colab": {
   "collapsed_sections": [],
   "name": "ML_Club_#2. Linear_regression",
   "provenance": []
  },
  "kernelspec": {
   "display_name": "Python 3",
   "language": "python",
   "name": "python3"
  },
  "language_info": {
   "codemirror_mode": {
    "name": "ipython",
    "version": 3
   },
   "file_extension": ".py",
   "mimetype": "text/x-python",
   "name": "python",
   "nbconvert_exporter": "python",
   "pygments_lexer": "ipython3",
   "version": "3.6.9"
  }
 },
 "nbformat": 4,
 "nbformat_minor": 1
}
